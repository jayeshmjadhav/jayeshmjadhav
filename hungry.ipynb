{
 "cells": [
  {
   "cell_type": "code",
   "execution_count": null,
   "id": "9b851e8a",
   "metadata": {},
   "outputs": [],
   "source": [
    "hungry = input('are you hungry?')\n",
    "if hungry=='yes':\n",
    "    print('Eat samosa')\n",
    "    print('eat pizza')\n",
    "else:\n",
    "    print('do your work')"
   ]
  },
  {
   "cell_type": "code",
   "execution_count": null,
   "id": "a4cb9a92",
   "metadata": {},
   "outputs": [],
   "source": []
  }
 ],
 "metadata": {
  "kernelspec": {
   "display_name": "Python 3 (ipykernel)",
   "language": "python",
   "name": "python3"
  },
  "language_info": {
   "codemirror_mode": {
    "name": "ipython",
    "version": 3
   },
   "file_extension": ".py",
   "mimetype": "text/x-python",
   "name": "python",
   "nbconvert_exporter": "python",
   "pygments_lexer": "ipython3",
   "version": "3.10.2"
  }
 },
 "nbformat": 4,
 "nbformat_minor": 5
}
